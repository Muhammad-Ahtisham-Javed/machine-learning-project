{
 "cells": [
  {
   "cell_type": "code",
   "execution_count": 150,
   "metadata": {},
   "outputs": [
    {
     "name": "stdout",
     "output_type": "stream",
     "text": [
      "[0 1 1 0 0 0 1 0 0 1 1 1 1 1 0 0 1 0 0 1 1 0 1 0 1 1 0 0 1 1 0 1 0 0 0 0 0\n",
      " 1 0 1 0 0 0 0 0 1 1 0 1 1 1 1 0 1 0 0 1 0 1 0 0 1 1 1 0 0 1 0 1 0 0 1 0 1\n",
      " 1]\n",
      "------------------------------\n"
     ]
    },
    {
     "name": "stderr",
     "output_type": "stream",
     "text": [
      "C:\\Users\\Ahtisham Javed\\anaconda3\\lib\\site-packages\\sklearn\\linear_model\\_logistic.py:763: ConvergenceWarning: lbfgs failed to converge (status=1):\n",
      "STOP: TOTAL NO. of ITERATIONS REACHED LIMIT.\n",
      "\n",
      "Increase the number of iterations (max_iter) or scale the data as shown in:\n",
      "    https://scikit-learn.org/stable/modules/preprocessing.html\n",
      "Please also refer to the documentation for alternative solver options:\n",
      "    https://scikit-learn.org/stable/modules/linear_model.html#logistic-regression\n",
      "  n_iter_i = _check_optimize_result(\n"
     ]
    },
    {
     "data": {
      "text/plain": [
       "0.8963210702341137"
      ]
     },
     "execution_count": 150,
     "metadata": {},
     "output_type": "execute_result"
    }
   ],
   "source": [
    "from sklearn.model_selection import train_test_split\n",
    "from sklearn.neighbors import KNeighborsClassifier\n",
    "from sklearn import preprocessing\n",
    "from sklearn.linear_model import LogisticRegression\n",
    "import pandas as pd\n",
    "import numpy as np\n",
    "from sklearn import metrics\n",
    "\n",
    "df = pd.read_excel('data.xlsx')\n",
    "\n",
    "# perform ordinal encoding for ordinal features\n",
    "enc = preprocessing.OrdinalEncoder(dtype=int)\n",
    "enc.fit(df[[\"Age\", \"What is your normal blood pressure?\", \"What is work intensity?\", \"How many hours do you work on average?\",\n",
    "           \"Do you feel starved for company?\"]])\n",
    "df[[\"Age\", \"What is your normal blood pressure?\", \"What is work intensity?\", \"How many hours do you work on average?\",\n",
    "           \"Do you feel starved for company?\"]] = enc.transform(df[[\"Age\", \"What is your normal blood pressure?\",\n",
    "                                                                    \"What is work intensity?\",\n",
    "                                                                    \"How many hours do you work on average?\",\n",
    "                                                                    \"Do you feel starved for company?\"]])\n",
    "\n",
    "# print(enc.categories_)\n",
    "\n",
    "data = df.to_numpy()\n",
    "\n",
    "# splitting labels\n",
    "target = data[:, 18]\n",
    "# removing timestamps column\n",
    "data = data[:, 1:18]\n",
    "\n",
    "# performing binarization of target\n",
    "target[target == 'Yes'] = 1\n",
    "target[target == 'No'] = 0\n",
    "\n",
    "# performing binarization on data\n",
    "temp = data[:, 0]\n",
    "temp[temp == \"Male\"] = 1\n",
    "temp[temp == \"Female\"] = 0\n",
    "\n",
    "temp = data[:, 5:12]\n",
    "temp[temp == \"Yes\"] = 1\n",
    "temp[temp == \"No\"] = 0\n",
    "\n",
    "temp = data[:, 16]\n",
    "temp[temp == \"Yes\"] = 1\n",
    "temp[temp == \"No\"] = 0\n",
    "\n",
    "# calculate BMI from height and weight\n",
    "data[:, 2] = data[:, 2] / 3.281\n",
    "data[:, 2] = np.square(data[:, 2])\n",
    "data[:, 2] = data[:, 3] / data[:, 2]\n",
    "data = np.delete(data, 3, 1)\n",
    "\n",
    "# print(data[:10, :])\n",
    "# print(target)\n",
    "\n",
    "\n",
    "X_train, X_test, y_train, y_test = train_test_split(data, target, random_state=42)\n",
    "\n",
    "# print(X_train)\n",
    "# print(y_train)\n",
    "\n",
    "y_train = y_train.astype('int')\n",
    "y_test = y_test.astype('int')\n",
    "\n",
    "\n",
    "knn = KNeighborsClassifier(n_neighbors = 3)\n",
    "knn.fit(X_train,y_train)\n",
    "print(y_test)\n",
    "knn.predict(X_test)\n",
    "\n",
    "# actual = y_test.sum()\n",
    "# predicted = knn.pred\n",
    "\n",
    "# print(\"Accuracy:\", metrics.accuracy_score(y_test, knn.predict(X_test)))\n",
    "\n",
    "knn.score(X_test, y_test)\n",
    "\n",
    "\n",
    "print(\"------------------------------\")\n",
    "\n",
    "X = data\n",
    "y = target\n",
    "y = y.astype('int')\n",
    "\n",
    "\n",
    "clf = LogisticRegression(random_state=0).fit(X, y)\n",
    "clf.predict(X[:2, :])\n",
    "clf.predict_proba(X[:2, :])\n",
    "clf.score(X, y)\n",
    "\n",
    "\n"
   ]
  }
 ],
 "metadata": {
  "kernelspec": {
   "display_name": "Python 3",
   "language": "python",
   "name": "python3"
  },
  "language_info": {
   "codemirror_mode": {
    "name": "ipython",
    "version": 3
   },
   "file_extension": ".py",
   "mimetype": "text/x-python",
   "name": "python",
   "nbconvert_exporter": "python",
   "pygments_lexer": "ipython3",
   "version": "3.8.5"
  }
 },
 "nbformat": 4,
 "nbformat_minor": 4
}
